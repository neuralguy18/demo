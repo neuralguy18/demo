{
  "nbformat": 4,
  "nbformat_minor": 0,
  "metadata": {
    "colab": {
      "provenance": [],
      "gpuType": "T4",
      "authorship_tag": "ABX9TyPzoBoEgQibFl0qCe2M47pc",
      "include_colab_link": true
    },
    "kernelspec": {
      "name": "python3",
      "display_name": "Python 3"
    },
    "language_info": {
      "name": "python"
    },
    "accelerator": "GPU"
  },
  "cells": [
    {
      "cell_type": "markdown",
      "metadata": {
        "id": "view-in-github",
        "colab_type": "text"
      },
      "source": [
        "<a href=\"https://colab.research.google.com/github/neuralguy18/demo/blob/main/Pytorch_basics.ipynb\" target=\"_parent\"><img src=\"https://colab.research.google.com/assets/colab-badge.svg\" alt=\"Open In Colab\"/></a>"
      ]
    },
    {
      "cell_type": "code",
      "source": [
        "import torch\n",
        "print(torch.__version__)"
      ],
      "metadata": {
        "colab": {
          "base_uri": "https://localhost:8080/"
        },
        "id": "e5nGl2312ZD6",
        "outputId": "1a3579ea-448a-49dc-bcfc-4fa114ed5ba3"
      },
      "execution_count": 4,
      "outputs": [
        {
          "output_type": "stream",
          "name": "stdout",
          "text": [
            "2.5.1+cu121\n"
          ]
        }
      ]
    },
    {
      "cell_type": "code",
      "source": [
        "torch.cuda.is_available()"
      ],
      "metadata": {
        "colab": {
          "base_uri": "https://localhost:8080/"
        },
        "id": "wiab9z_e2lgI",
        "outputId": "c7f30417-88ef-4c72-cf77-830ef64eff25"
      },
      "execution_count": 5,
      "outputs": [
        {
          "output_type": "execute_result",
          "data": {
            "text/plain": [
              "False"
            ]
          },
          "metadata": {},
          "execution_count": 5
        }
      ]
    },
    {
      "cell_type": "code",
      "source": [
        "tensor0d = torch.tensor(1)\n",
        "\n",
        "tensor1d = torch.tensor([1,2,3])\n",
        "\n",
        "tensor2d = torch.tensor([[1,2],[3,4]])\n",
        "\n",
        "tensor3d = torch.tensor([[[1,2],[3,4]],[[5,6],[7,8]]])"
      ],
      "metadata": {
        "id": "NMdRvypR3wJD"
      },
      "execution_count": 6,
      "outputs": []
    },
    {
      "cell_type": "code",
      "source": [
        "print(tensor1d.dtype)"
      ],
      "metadata": {
        "colab": {
          "base_uri": "https://localhost:8080/"
        },
        "id": "GJtNJM266b_1",
        "outputId": "fd51c85b-3654-48a7-e388-6e665d262916"
      },
      "execution_count": 7,
      "outputs": [
        {
          "output_type": "stream",
          "name": "stdout",
          "text": [
            "torch.int64\n"
          ]
        }
      ]
    },
    {
      "cell_type": "code",
      "source": [
        "floatvec = tensor1d.to(torch.float32)\n",
        "print(floatvec.dtype)"
      ],
      "metadata": {
        "colab": {
          "base_uri": "https://localhost:8080/"
        },
        "id": "udoYKjDO6oMi",
        "outputId": "a6a1c8ca-9ade-41a8-cb21-0cd09fbb7d93"
      },
      "execution_count": 8,
      "outputs": [
        {
          "output_type": "stream",
          "name": "stdout",
          "text": [
            "torch.float32\n"
          ]
        }
      ]
    },
    {
      "cell_type": "code",
      "source": [
        "print(tensor2d.shape)"
      ],
      "metadata": {
        "colab": {
          "base_uri": "https://localhost:8080/"
        },
        "id": "t9Rqqjet7qmw",
        "outputId": "56188d7d-a686-46f5-e68e-85a3f47fbe5e"
      },
      "execution_count": 9,
      "outputs": [
        {
          "output_type": "stream",
          "name": "stdout",
          "text": [
            "torch.Size([2, 2])\n"
          ]
        }
      ]
    },
    {
      "cell_type": "code",
      "source": [
        "print(tensor2d)"
      ],
      "metadata": {
        "colab": {
          "base_uri": "https://localhost:8080/"
        },
        "id": "UtdkhKmh8a-K",
        "outputId": "ca99add3-39dc-4c18-fa69-5f656e8acf94"
      },
      "execution_count": 10,
      "outputs": [
        {
          "output_type": "stream",
          "name": "stdout",
          "text": [
            "tensor([[1, 2],\n",
            "        [3, 4]])\n"
          ]
        }
      ]
    },
    {
      "cell_type": "code",
      "source": [
        "print(tensor2d.T)"
      ],
      "metadata": {
        "colab": {
          "base_uri": "https://localhost:8080/"
        },
        "id": "jxzCl8oP9dgd",
        "outputId": "bafc61f0-8a72-4c37-9c29-c175389d8a01"
      },
      "execution_count": 11,
      "outputs": [
        {
          "output_type": "stream",
          "name": "stdout",
          "text": [
            "tensor([[1, 3],\n",
            "        [2, 4]])\n"
          ]
        }
      ]
    },
    {
      "cell_type": "code",
      "source": [
        "print(tensor2d.matmul(tensor2d.T))"
      ],
      "metadata": {
        "colab": {
          "base_uri": "https://localhost:8080/"
        },
        "id": "9RSb8pGm9hgl",
        "outputId": "9d55a1fb-c69b-4ac6-cf3c-82b9c8ab8e91"
      },
      "execution_count": 12,
      "outputs": [
        {
          "output_type": "stream",
          "name": "stdout",
          "text": [
            "tensor([[ 5, 11],\n",
            "        [11, 25]])\n"
          ]
        }
      ]
    },
    {
      "cell_type": "code",
      "source": [
        "import torch.nn.functional as F\n",
        "y = torch.tensor([1.0])\n",
        "x1= torch.tensor([1.1])\n",
        "w1= torch.tensor([2.2])\n",
        "b= torch.tensor([0.0])\n",
        "\n",
        "a = torch.sigmoid(x1*w1+b)\n",
        "loss = F.binary_cross_entropy(a,y)\n",
        "print(loss)"
      ],
      "metadata": {
        "colab": {
          "base_uri": "https://localhost:8080/"
        },
        "id": "3BGu8Xgz9rYy",
        "outputId": "d6664b3c-bc6d-458d-d01a-476d5c3c49d4"
      },
      "execution_count": 13,
      "outputs": [
        {
          "output_type": "stream",
          "name": "stdout",
          "text": [
            "tensor(0.0852)\n"
          ]
        }
      ]
    },
    {
      "cell_type": "code",
      "source": [
        "class NeuralNetwork(torch.nn.Module):\n",
        "  def __init__(self,num_inputs,num_outputs):\n",
        "    super().__init__()\n",
        "    self.layers = torch.nn.Sequential(\n",
        "        torch.nn.Linear(num_inputs,30),\n",
        "        torch.nn.ReLU(),\n",
        "        torch.nn.Linear(30,20),\n",
        "        torch.nn.ReLU(),\n",
        "        torch.nn.Linear(20,num_outputs)\n",
        "    )\n",
        "\n",
        "  def forward(self,x):\n",
        "    logits = self.layers(x)\n",
        "    return logits"
      ],
      "metadata": {
        "id": "QpqeBzQIF_6C"
      },
      "execution_count": 14,
      "outputs": []
    },
    {
      "cell_type": "code",
      "source": [
        "model = NeuralNetwork(50,3)"
      ],
      "metadata": {
        "id": "pRMz_jyBc1Kn"
      },
      "execution_count": 15,
      "outputs": []
    },
    {
      "cell_type": "code",
      "source": [
        "print(model)"
      ],
      "metadata": {
        "colab": {
          "base_uri": "https://localhost:8080/"
        },
        "id": "3pWYdX9QdNPH",
        "outputId": "f6c2333d-ca30-424c-94b4-0326e14b350f"
      },
      "execution_count": 16,
      "outputs": [
        {
          "output_type": "stream",
          "name": "stdout",
          "text": [
            "NeuralNetwork(\n",
            "  (layers): Sequential(\n",
            "    (0): Linear(in_features=50, out_features=30, bias=True)\n",
            "    (1): ReLU()\n",
            "    (2): Linear(in_features=30, out_features=20, bias=True)\n",
            "    (3): ReLU()\n",
            "    (4): Linear(in_features=20, out_features=3, bias=True)\n",
            "  )\n",
            ")\n"
          ]
        }
      ]
    },
    {
      "cell_type": "code",
      "source": [
        "model.parameters()"
      ],
      "metadata": {
        "colab": {
          "base_uri": "https://localhost:8080/"
        },
        "id": "7g98w2qPejpo",
        "outputId": "4346ea4f-7c34-4d2e-f0d3-ca4e927585ab"
      },
      "execution_count": 17,
      "outputs": [
        {
          "output_type": "execute_result",
          "data": {
            "text/plain": [
              "<generator object Module.parameters at 0x7e6a0c585690>"
            ]
          },
          "metadata": {},
          "execution_count": 17
        }
      ]
    },
    {
      "cell_type": "code",
      "source": [
        "num_params = sum(p.numel() for p in model.parameters()\n",
        "                    if p.requires_grad)\n",
        "print(num_params)"
      ],
      "metadata": {
        "colab": {
          "base_uri": "https://localhost:8080/"
        },
        "id": "zKSGLIe8fI6D",
        "outputId": "6bbbff00-1402-43c3-9682-e002950fc746"
      },
      "execution_count": 18,
      "outputs": [
        {
          "output_type": "stream",
          "name": "stdout",
          "text": [
            "2213\n"
          ]
        }
      ]
    },
    {
      "cell_type": "code",
      "source": [
        "print(model.layers[2].weight.shape)"
      ],
      "metadata": {
        "colab": {
          "base_uri": "https://localhost:8080/"
        },
        "id": "T6-7z5y9fQzV",
        "outputId": "516ebbbe-55fa-424f-d98f-b0aa9eadad6f"
      },
      "execution_count": 19,
      "outputs": [
        {
          "output_type": "stream",
          "name": "stdout",
          "text": [
            "torch.Size([20, 30])\n"
          ]
        }
      ]
    },
    {
      "cell_type": "code",
      "source": [
        "torch.manual_seed(123)\n",
        "model = NeuralNetwork(50,3)\n",
        "print(model.layers[4].weight)"
      ],
      "metadata": {
        "colab": {
          "base_uri": "https://localhost:8080/"
        },
        "id": "JylkE1maggOy",
        "outputId": "3bf9622f-97f2-4379-ec21-943fe2bfd473"
      },
      "execution_count": 20,
      "outputs": [
        {
          "output_type": "stream",
          "name": "stdout",
          "text": [
            "Parameter containing:\n",
            "tensor([[-0.1692, -0.0858,  0.2063, -0.1134, -0.1537,  0.0388,  0.1798, -0.0861,\n",
            "         -0.0695, -0.0770, -0.1165,  0.0031, -0.0258,  0.0932, -0.1665, -0.0642,\n",
            "         -0.2058, -0.2228,  0.0619, -0.0289],\n",
            "        [-0.2011, -0.0067,  0.0681,  0.1624,  0.1344, -0.2128,  0.0601, -0.2104,\n",
            "          0.1657,  0.1458, -0.2062,  0.0016,  0.0697,  0.0092, -0.2019,  0.2094,\n",
            "         -0.1101,  0.0695,  0.1398, -0.2045],\n",
            "        [-0.0663, -0.1034,  0.2191, -0.0906, -0.1899, -0.2023, -0.0230,  0.1957,\n",
            "         -0.1776, -0.1351, -0.2014,  0.2151,  0.1206,  0.0938,  0.1765,  0.0676,\n",
            "          0.1493, -0.0508,  0.0346, -0.1222]], requires_grad=True)\n"
          ]
        }
      ]
    },
    {
      "cell_type": "code",
      "source": [
        "torch.manual_seed(123)\n",
        "X = torch.rand((1,50))\n",
        "with torch.no_grad():\n",
        "  out = torch.softmax(model(X),dim=1)\n",
        "print(out)"
      ],
      "metadata": {
        "colab": {
          "base_uri": "https://localhost:8080/"
        },
        "id": "hdzWxUqgiRve",
        "outputId": "04a335cf-9689-4155-fff9-e0d99b681ef9"
      },
      "execution_count": 21,
      "outputs": [
        {
          "output_type": "stream",
          "name": "stdout",
          "text": [
            "tensor([[0.3113, 0.3934, 0.2952]])\n"
          ]
        }
      ]
    },
    {
      "cell_type": "code",
      "source": [
        "X_train = torch.tensor([\n",
        "    [-1.2, 3.1,1.2],\n",
        "    [-0.9, 2.9,0.7],\n",
        "    [-0.5, 2.6,-0.8],\n",
        "    [2.3, -1.1,-1.1],\n",
        "    [2.7, -1.5,-1.2]\n",
        "])\n",
        "y_train = torch.tensor([0, 0, 0, 1, 1])"
      ],
      "metadata": {
        "id": "LlJCwUzAjp4z"
      },
      "execution_count": 22,
      "outputs": []
    },
    {
      "cell_type": "code",
      "source": [
        "X_test = torch.tensor([\n",
        "    [-0.8, 2.8,3.2],\n",
        "    [2.6, -1.6,-2.0]\n",
        "])\n",
        "y_test = torch.tensor([0, 1])"
      ],
      "metadata": {
        "id": "29x-SBtflWa8"
      },
      "execution_count": 23,
      "outputs": []
    },
    {
      "cell_type": "code",
      "source": [
        "from torch.utils.data import Dataset, DataLoader\n",
        "\n",
        "class ToyDataset(Dataset):\n",
        "    def __init__(self,X,y):\n",
        "      self.features = X\n",
        "      self.labels = y\n",
        "\n",
        "    def __getitem__(self,index):\n",
        "      one_x = self.features[index]\n",
        "      one_y = self.labels[index]\n",
        "      return one_x,one_y\n",
        "\n",
        "    def __len__(self):\n",
        "      return self.labels.shape[0]\n",
        "\n",
        "train_ds = ToyDataset(X_train,y_train)\n",
        "test_ds = ToyDataset(X_test,y_test)"
      ],
      "metadata": {
        "id": "oAptQ7TFlZtK"
      },
      "execution_count": 24,
      "outputs": []
    },
    {
      "cell_type": "code",
      "source": [
        "len(train_ds)"
      ],
      "metadata": {
        "colab": {
          "base_uri": "https://localhost:8080/"
        },
        "id": "3FjJdEJ1pd8W",
        "outputId": "8ad07fc6-fdb9-495b-93b0-7c8fc09479aa"
      },
      "execution_count": 25,
      "outputs": [
        {
          "output_type": "execute_result",
          "data": {
            "text/plain": [
              "5"
            ]
          },
          "metadata": {},
          "execution_count": 25
        }
      ]
    },
    {
      "cell_type": "code",
      "source": [
        "torch.manual_seed(123)\n",
        "\n",
        "train_loader = DataLoader(\n",
        "    dataset = train_ds,\n",
        "    batch_size = 2,\n",
        "    shuffle = True,\n",
        "    num_workers = 0,\n",
        "    drop_last=True\n",
        "    )"
      ],
      "metadata": {
        "id": "-3scrl7usGcr"
      },
      "execution_count": 46,
      "outputs": []
    },
    {
      "cell_type": "code",
      "source": [
        "test_Loader = DataLoader(\n",
        "    dataset = test_ds,\n",
        "    batch_size = 1,\n",
        "    shuffle = False,\n",
        "    num_workers =0\n",
        ")"
      ],
      "metadata": {
        "id": "T754BFgktBkH"
      },
      "execution_count": 47,
      "outputs": []
    },
    {
      "cell_type": "code",
      "source": [
        "for idx,(x,y) in enumerate(train_loader):\n",
        "  print(f\"Batch {idx+1}:{x},{y}\")"
      ],
      "metadata": {
        "colab": {
          "base_uri": "https://localhost:8080/"
        },
        "id": "pAEbBqNetB2w",
        "outputId": "a0cd45ad-1fbf-4373-87a0-87b380972c60"
      },
      "execution_count": 28,
      "outputs": [
        {
          "output_type": "stream",
          "name": "stdout",
          "text": [
            "Batch 1:tensor([[ 2.3000, -1.1000, -1.1000],\n",
            "        [-0.9000,  2.9000,  0.7000]]),tensor([1, 0])\n",
            "Batch 2:tensor([[-1.2000,  3.1000,  1.2000],\n",
            "        [-0.5000,  2.6000, -0.8000]]),tensor([0, 0])\n"
          ]
        }
      ]
    },
    {
      "cell_type": "code",
      "source": [
        "import torch.nn.functional as F\n",
        "\n",
        "torch.manual_seed(123)\n",
        "model = NeuralNetwork(3,2)\n",
        "optimizer = torch.optim.SGD(model.parameters(),lr=0.5)\n",
        "num_epochs = 3\n",
        "\n",
        "for epoch in range(num_epochs):\n",
        "  model.train()\n",
        "  for batch_idx,(features,labels) in enumerate(train_loader):\n",
        "    logits = model(features)\n",
        "    loss = F.cross_entropy(logits,labels)\n",
        "    optimizer.zero_grad()\n",
        "    loss.backward()\n",
        "    optimizer.step()\n",
        "\n",
        "    print(f\"Epoch:{epoch+1:03d}/{num_epochs:03d}\"\n",
        "          f\"| Batch{batch_idx+1:03d}/{len(train_loader):03d}\"\n",
        "          f\"| Train loss :{loss:.2f}\")\n",
        "\n",
        "  model.eval()"
      ],
      "metadata": {
        "colab": {
          "base_uri": "https://localhost:8080/"
        },
        "id": "vzjoNQ86vSJn",
        "outputId": "c8ec6ea7-1f08-481d-e5a9-5b869aca3de4"
      },
      "execution_count": 32,
      "outputs": [
        {
          "output_type": "stream",
          "name": "stdout",
          "text": [
            "Epoch:001/003| Batch001/002| Train loss :0.68\n",
            "Epoch:001/003| Batch002/002| Train loss :0.51\n",
            "Epoch:002/003| Batch001/002| Train loss :0.29\n",
            "Epoch:002/003| Batch002/002| Train loss :0.19\n",
            "Epoch:003/003| Batch001/002| Train loss :0.10\n",
            "Epoch:003/003| Batch002/002| Train loss :0.02\n"
          ]
        }
      ]
    },
    {
      "cell_type": "code",
      "source": [
        "params = sum(p.numel() for p in model.parameters() if p.requires_grad)\n",
        "print(params)"
      ],
      "metadata": {
        "colab": {
          "base_uri": "https://localhost:8080/"
        },
        "id": "xL0e0kFMigG4",
        "outputId": "7c6f5c7c-b8ee-4605-9d41-77bdabd1e878"
      },
      "execution_count": 40,
      "outputs": [
        {
          "output_type": "stream",
          "name": "stdout",
          "text": [
            "782\n"
          ]
        }
      ]
    },
    {
      "cell_type": "code",
      "source": [
        "model.eval()\n",
        "with torch.no_grad():\n",
        "  outputs = model(X_train)\n",
        "print(outputs)"
      ],
      "metadata": {
        "colab": {
          "base_uri": "https://localhost:8080/"
        },
        "id": "N7rXOcjdi8Sx",
        "outputId": "4d467e9d-a63d-494e-95be-51501f95fa47"
      },
      "execution_count": 49,
      "outputs": [
        {
          "output_type": "stream",
          "name": "stdout",
          "text": [
            "tensor([[ 2.3768, -2.6285],\n",
            "        [ 2.2207, -2.4441],\n",
            "        [ 1.8829, -2.0872],\n",
            "        [-2.1188,  1.6964],\n",
            "        [-2.4648,  1.9449]])\n"
          ]
        }
      ]
    },
    {
      "cell_type": "code",
      "source": [
        "predicted_labels = torch.argmax(outputs,dim=1)\n",
        "print(predicted_labels)"
      ],
      "metadata": {
        "colab": {
          "base_uri": "https://localhost:8080/"
        },
        "id": "XHjsaedMl3w6",
        "outputId": "d3558263-573d-4d66-95c0-c9a184648bef"
      },
      "execution_count": 51,
      "outputs": [
        {
          "output_type": "stream",
          "name": "stdout",
          "text": [
            "tensor([0, 0, 0, 1, 1])\n"
          ]
        }
      ]
    },
    {
      "cell_type": "code",
      "source": [
        "train_ds.labels"
      ],
      "metadata": {
        "colab": {
          "base_uri": "https://localhost:8080/"
        },
        "id": "oHVBJVc_mHBb",
        "outputId": "574c8b19-2327-4909-a73e-067243bc032a"
      },
      "execution_count": 53,
      "outputs": [
        {
          "output_type": "execute_result",
          "data": {
            "text/plain": [
              "tensor([0, 0, 0, 1, 1])"
            ]
          },
          "metadata": {},
          "execution_count": 53
        }
      ]
    },
    {
      "cell_type": "code",
      "source": [
        "predicted_labels == train_ds.labels"
      ],
      "metadata": {
        "colab": {
          "base_uri": "https://localhost:8080/"
        },
        "id": "_fIhu1btmMZ_",
        "outputId": "c086dcfd-9da3-451c-b3d3-6cb6c5795187"
      },
      "execution_count": 54,
      "outputs": [
        {
          "output_type": "execute_result",
          "data": {
            "text/plain": [
              "tensor([True, True, True, True, True])"
            ]
          },
          "metadata": {},
          "execution_count": 54
        }
      ]
    },
    {
      "cell_type": "code",
      "source": [
        "def compute_accuracy(model,loader):\n",
        "  correct = 0\n",
        "  total = 0\n",
        "  for idx,(features,labels) in enumerate(loader):\n",
        "    with torch.no_grad():\n",
        "      logits = model(features)\n",
        "    predicted_labels = torch.argmax(logits,dim=1)\n",
        "    total += labels.shape[0]\n",
        "    correct += (predicted_labels == labels).sum().item()\n",
        "  return correct/total\n"
      ],
      "metadata": {
        "id": "6ogQ1v6BmbwZ"
      },
      "execution_count": 55,
      "outputs": []
    },
    {
      "cell_type": "code",
      "source": [
        "compute_accuracy(model,train_loader)"
      ],
      "metadata": {
        "colab": {
          "base_uri": "https://localhost:8080/"
        },
        "id": "DNXN-h5bngfe",
        "outputId": "6860ac6d-4151-4c0c-be25-a9f9488d2b2b"
      },
      "execution_count": 56,
      "outputs": [
        {
          "output_type": "execute_result",
          "data": {
            "text/plain": [
              "1.0"
            ]
          },
          "metadata": {},
          "execution_count": 56
        }
      ]
    },
    {
      "cell_type": "code",
      "source": [
        "compute_accuracy(model,test_Loader)"
      ],
      "metadata": {
        "colab": {
          "base_uri": "https://localhost:8080/"
        },
        "id": "vt-egv1Snj1w",
        "outputId": "0d6d9a79-6fbc-44b4-c8c2-a4f4b29ed02a"
      },
      "execution_count": 57,
      "outputs": [
        {
          "output_type": "execute_result",
          "data": {
            "text/plain": [
              "1.0"
            ]
          },
          "metadata": {},
          "execution_count": 57
        }
      ]
    },
    {
      "cell_type": "code",
      "source": [
        "torch.save(model.state_dict(),\"model.pth\")"
      ],
      "metadata": {
        "id": "0klkpuDZnlzX"
      },
      "execution_count": 58,
      "outputs": []
    },
    {
      "cell_type": "code",
      "source": [
        "model = NeuralNetwork(3,2)\n",
        "model.load_state_dict(torch.load(\"model.pth\"))"
      ],
      "metadata": {
        "colab": {
          "base_uri": "https://localhost:8080/"
        },
        "id": "uTIo5cdGoDSF",
        "outputId": "cfeb7ef0-2f84-4c74-c4cf-70811d443820"
      },
      "execution_count": 59,
      "outputs": [
        {
          "output_type": "stream",
          "name": "stderr",
          "text": [
            "<ipython-input-59-a2574e1a72ac>:2: FutureWarning: You are using `torch.load` with `weights_only=False` (the current default value), which uses the default pickle module implicitly. It is possible to construct malicious pickle data which will execute arbitrary code during unpickling (See https://github.com/pytorch/pytorch/blob/main/SECURITY.md#untrusted-models for more details). In a future release, the default value for `weights_only` will be flipped to `True`. This limits the functions that could be executed during unpickling. Arbitrary objects will no longer be allowed to be loaded via this mode unless they are explicitly allowlisted by the user via `torch.serialization.add_safe_globals`. We recommend you start setting `weights_only=True` for any use case where you don't have full control of the loaded file. Please open an issue on GitHub for any issues related to this experimental feature.\n",
            "  model.load_state_dict(torch.load(\"model.pth\"))\n"
          ]
        },
        {
          "output_type": "execute_result",
          "data": {
            "text/plain": [
              "<All keys matched successfully>"
            ]
          },
          "metadata": {},
          "execution_count": 59
        }
      ]
    },
    {
      "cell_type": "code",
      "source": [],
      "metadata": {
        "id": "oMLguaXWoWEd"
      },
      "execution_count": null,
      "outputs": []
    }
  ]
}