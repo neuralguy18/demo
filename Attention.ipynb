{
  "nbformat": 4,
  "nbformat_minor": 0,
  "metadata": {
    "colab": {
      "provenance": [],
      "authorship_tag": "ABX9TyPKGQHi2mYRiEmz9FhDMKfX",
      "include_colab_link": true
    },
    "kernelspec": {
      "name": "python3",
      "display_name": "Python 3"
    },
    "language_info": {
      "name": "python"
    }
  },
  "cells": [
    {
      "cell_type": "markdown",
      "metadata": {
        "id": "view-in-github",
        "colab_type": "text"
      },
      "source": [
        "<a href=\"https://colab.research.google.com/github/neuralguy18/demo/blob/main/Attention.ipynb\" target=\"_parent\"><img src=\"https://colab.research.google.com/assets/colab-badge.svg\" alt=\"Open In Colab\"/></a>"
      ]
    },
    {
      "cell_type": "code",
      "execution_count": null,
      "metadata": {
        "id": "DOmoWwwg9cBd"
      },
      "outputs": [],
      "source": []
    },
    {
      "cell_type": "markdown",
      "source": [
        "Self attention is a mechanism in transformers used to compute more efficient input representations by allowing each position in a sequence to interact with and weigh the importance of all other positions within the same sequence.\n"
      ],
      "metadata": {
        "id": "DxG7G1x7ElbD"
      }
    },
    {
      "cell_type": "code",
      "source": [],
      "metadata": {
        "id": "wWLJKSiDFEyU"
      },
      "execution_count": null,
      "outputs": []
    },
    {
      "cell_type": "markdown",
      "source": [
        "In self-attention,our goal is to calculate context vectors z(i) for each element x(i) in the input sequence. A context vector can be interpreted as an enriched embedding vector.\n"
      ],
      "metadata": {
        "id": "vr_LF-0sNywQ"
      }
    },
    {
      "cell_type": "code",
      "source": [
        "import torch\n",
        "inputs = torch.tensor(\n",
        "    [[0.43,0.15,0.89],\n",
        "     [0.55,0.87,0.66],\n",
        "     [0.57,0.85,0.64],\n",
        "     [0.22,0.58,0.33],\n",
        "     [0.77,0.25,0.10],\n",
        "     [0.05,0.8,0.55]]\n",
        ")"
      ],
      "metadata": {
        "id": "U_46eklFOKfm"
      },
      "execution_count": 1,
      "outputs": []
    },
    {
      "cell_type": "code",
      "source": [
        "query = inputs[1]\n",
        "attn_scores_2 = torch.empty(inputs.shape[0])\n",
        "for i,xi in enumerate(inputs):\n",
        "  attn_scores_2[i] = torch.dot(query,xi)\n",
        "attn_scores_2"
      ],
      "metadata": {
        "colab": {
          "base_uri": "https://localhost:8080/"
        },
        "id": "dw9BqfKxSjlD",
        "outputId": "608dbf78-d8d0-4856-aa0e-53de127f071d"
      },
      "execution_count": 2,
      "outputs": [
        {
          "output_type": "execute_result",
          "data": {
            "text/plain": [
              "tensor([0.9544, 1.4950, 1.4754, 0.8434, 0.7070, 1.0865])"
            ]
          },
          "metadata": {},
          "execution_count": 2
        }
      ]
    },
    {
      "cell_type": "code",
      "source": [
        "attn_weights_2_temp = torch.exp(attn_scores_2) / torch.exp(attn_scores_2).sum(dim=0)\n",
        "attn_weights_2_temp"
      ],
      "metadata": {
        "colab": {
          "base_uri": "https://localhost:8080/"
        },
        "id": "jau2ckZuUwj6",
        "outputId": "3a9b3883-fad7-4880-86cf-55af8abd4760"
      },
      "execution_count": 3,
      "outputs": [
        {
          "output_type": "execute_result",
          "data": {
            "text/plain": [
              "tensor([0.1385, 0.2379, 0.2333, 0.1240, 0.1082, 0.1581])"
            ]
          },
          "metadata": {},
          "execution_count": 3
        }
      ]
    },
    {
      "cell_type": "code",
      "source": [
        "query = inputs[1]\n",
        "context_vec_2 = torch.zeros(query.shape)\n",
        "for i,xi in enumerate(inputs):\n",
        "  context_vec_2 += attn_weights_2_temp[i]*xi\n",
        "context_vec_2"
      ],
      "metadata": {
        "colab": {
          "base_uri": "https://localhost:8080/"
        },
        "id": "AxCCefvbVmc4",
        "outputId": "752ca73f-25cb-4b5f-bfa1-5b19eae80733"
      },
      "execution_count": 4,
      "outputs": [
        {
          "output_type": "execute_result",
          "data": {
            "text/plain": [
              "tensor([0.4419, 0.6515, 0.5683])"
            ]
          },
          "metadata": {},
          "execution_count": 4
        }
      ]
    },
    {
      "cell_type": "code",
      "source": [
        "attn_scores = torch.empty(6,6)\n",
        "for i,xi in enumerate(inputs):\n",
        "  for j,xj in enumerate(inputs):\n",
        "    attn_scores[i,j] = torch.dot(xi,xj)\n",
        "attn_scores\n"
      ],
      "metadata": {
        "colab": {
          "base_uri": "https://localhost:8080/"
        },
        "id": "t9iXPDxuVmfl",
        "outputId": "548bcbef-1842-4ebf-d8fb-8eb8f61c53ce"
      },
      "execution_count": 5,
      "outputs": [
        {
          "output_type": "execute_result",
          "data": {
            "text/plain": [
              "tensor([[0.9995, 0.9544, 0.9422, 0.4753, 0.4576, 0.6310],\n",
              "        [0.9544, 1.4950, 1.4754, 0.8434, 0.7070, 1.0865],\n",
              "        [0.9422, 1.4754, 1.4570, 0.8296, 0.7154, 1.0605],\n",
              "        [0.4753, 0.8434, 0.8296, 0.4937, 0.3474, 0.6565],\n",
              "        [0.4576, 0.7070, 0.7154, 0.3474, 0.6654, 0.2935],\n",
              "        [0.6310, 1.0865, 1.0605, 0.6565, 0.2935, 0.9450]])"
            ]
          },
          "metadata": {},
          "execution_count": 5
        }
      ]
    },
    {
      "cell_type": "code",
      "source": [
        "attn_scores = inputs @ inputs.T\n",
        "attn_scores"
      ],
      "metadata": {
        "colab": {
          "base_uri": "https://localhost:8080/"
        },
        "id": "nMsYjkDzVmjA",
        "outputId": "78379080-844f-4176-aa91-de6db1899c55"
      },
      "execution_count": 6,
      "outputs": [
        {
          "output_type": "execute_result",
          "data": {
            "text/plain": [
              "tensor([[0.9995, 0.9544, 0.9422, 0.4753, 0.4576, 0.6310],\n",
              "        [0.9544, 1.4950, 1.4754, 0.8434, 0.7070, 1.0865],\n",
              "        [0.9422, 1.4754, 1.4570, 0.8296, 0.7154, 1.0605],\n",
              "        [0.4753, 0.8434, 0.8296, 0.4937, 0.3474, 0.6565],\n",
              "        [0.4576, 0.7070, 0.7154, 0.3474, 0.6654, 0.2935],\n",
              "        [0.6310, 1.0865, 1.0605, 0.6565, 0.2935, 0.9450]])"
            ]
          },
          "metadata": {},
          "execution_count": 6
        }
      ]
    },
    {
      "cell_type": "code",
      "source": [
        "attn_weights = torch.softmax(attn_scores,dim=1)\n",
        "attn_weights"
      ],
      "metadata": {
        "colab": {
          "base_uri": "https://localhost:8080/"
        },
        "id": "oPB61OOOeuZ-",
        "outputId": "7d0817ce-67e2-476d-b659-19ddde76bcac"
      },
      "execution_count": 7,
      "outputs": [
        {
          "output_type": "execute_result",
          "data": {
            "text/plain": [
              "tensor([[0.2098, 0.2006, 0.1981, 0.1242, 0.1220, 0.1452],\n",
              "        [0.1385, 0.2379, 0.2333, 0.1240, 0.1082, 0.1581],\n",
              "        [0.1390, 0.2369, 0.2326, 0.1242, 0.1108, 0.1565],\n",
              "        [0.1435, 0.2074, 0.2046, 0.1462, 0.1263, 0.1720],\n",
              "        [0.1526, 0.1958, 0.1975, 0.1367, 0.1879, 0.1295],\n",
              "        [0.1385, 0.2184, 0.2128, 0.1420, 0.0988, 0.1896]])"
            ]
          },
          "metadata": {},
          "execution_count": 7
        }
      ]
    },
    {
      "cell_type": "code",
      "source": [
        "context_vectors = attn_weights @ inputs\n",
        "context_vectors"
      ],
      "metadata": {
        "colab": {
          "base_uri": "https://localhost:8080/"
        },
        "id": "XqF0hb0ge3Ur",
        "outputId": "fdb9f77d-9047-4e3d-df8f-8281ab0f9b01"
      },
      "execution_count": 8,
      "outputs": [
        {
          "output_type": "execute_result",
          "data": {
            "text/plain": [
              "tensor([[0.4421, 0.5931, 0.5790],\n",
              "        [0.4419, 0.6515, 0.5683],\n",
              "        [0.4431, 0.6496, 0.5671],\n",
              "        [0.4304, 0.6298, 0.5510],\n",
              "        [0.4671, 0.5910, 0.5266],\n",
              "        [0.4177, 0.6503, 0.5645]])"
            ]
          },
          "metadata": {},
          "execution_count": 8
        }
      ]
    },
    {
      "cell_type": "code",
      "source": [
        "context_vec_2"
      ],
      "metadata": {
        "colab": {
          "base_uri": "https://localhost:8080/"
        },
        "id": "Iq8enRhLe3kF",
        "outputId": "7f3b3e01-ca2d-4de2-8ee4-fd3a2e53ee5f"
      },
      "execution_count": 9,
      "outputs": [
        {
          "output_type": "execute_result",
          "data": {
            "text/plain": [
              "tensor([0.4419, 0.6515, 0.5683])"
            ]
          },
          "metadata": {},
          "execution_count": 9
        }
      ]
    },
    {
      "cell_type": "markdown",
      "source": [
        "We will implement the self-attention mechanism step by step by introducing the three trainable weight matrices Wq, Wk and Wv\n"
      ],
      "metadata": {
        "id": "ZJLF_RQwh4Zh"
      }
    },
    {
      "cell_type": "code",
      "source": [
        "x_2 = inputs[1]\n",
        "d_in = inputs.shape[1]\n",
        "d_out = 2\n"
      ],
      "metadata": {
        "id": "d5mgJZlylrkI"
      },
      "execution_count": 10,
      "outputs": []
    },
    {
      "cell_type": "code",
      "source": [
        "torch.manual_seed(123)\n",
        "Wq = torch.nn.Parameter(torch.rand(d_in,d_out),requires_grad=False)\n",
        "Wk = torch.nn.Parameter(torch.rand(d_in,d_out),requires_grad=False)\n",
        "Wv = torch.nn.Parameter(torch.rand(d_in,d_out),requires_grad=False)\n"
      ],
      "metadata": {
        "id": "s8YitIkMkCZ6"
      },
      "execution_count": 11,
      "outputs": []
    },
    {
      "cell_type": "code",
      "source": [
        "query_2 = x_2 @ Wq\n",
        "key_2 = x_2 @ Wk\n",
        "value_2 = x_2 @ Wv\n",
        "query_2,key_2,value_2"
      ],
      "metadata": {
        "colab": {
          "base_uri": "https://localhost:8080/"
        },
        "id": "E9K7L__Xngys",
        "outputId": "f2c6be22-14a9-4915-fb1a-e93002ab031d"
      },
      "execution_count": 12,
      "outputs": [
        {
          "output_type": "execute_result",
          "data": {
            "text/plain": [
              "(tensor([0.4306, 1.4551]), tensor([0.4433, 1.1419]), tensor([0.3951, 1.0037]))"
            ]
          },
          "metadata": {},
          "execution_count": 12
        }
      ]
    },
    {
      "cell_type": "code",
      "source": [
        "keys = inputs @ Wk\n",
        "values = inputs @ Wv\n",
        "keys,values"
      ],
      "metadata": {
        "colab": {
          "base_uri": "https://localhost:8080/"
        },
        "id": "OoR6DGCgoe54",
        "outputId": "32a5ab9a-3f03-4a04-d340-dfab3fb0aa67"
      },
      "execution_count": 13,
      "outputs": [
        {
          "output_type": "execute_result",
          "data": {
            "text/plain": [
              "(tensor([[0.3669, 0.7646],\n",
              "         [0.4433, 1.1419],\n",
              "         [0.4361, 1.1156],\n",
              "         [0.2408, 0.6706],\n",
              "         [0.1827, 0.3292],\n",
              "         [0.3275, 0.9642]]),\n",
              " tensor([[0.1855, 0.8812],\n",
              "         [0.3951, 1.0037],\n",
              "         [0.3879, 0.9831],\n",
              "         [0.2393, 0.5493],\n",
              "         [0.1492, 0.3346],\n",
              "         [0.3221, 0.7863]]))"
            ]
          },
          "metadata": {},
          "execution_count": 13
        }
      ]
    },
    {
      "cell_type": "code",
      "source": [
        "keys_2 = keys[1]\n",
        "attn_score_22= query_2.dot(keys_2)\n",
        "print(attn_score_22)"
      ],
      "metadata": {
        "colab": {
          "base_uri": "https://localhost:8080/"
        },
        "id": "-CXbAAAfqd3-",
        "outputId": "4aff079a-85f6-4240-b29f-9025570ae43b"
      },
      "execution_count": 14,
      "outputs": [
        {
          "output_type": "stream",
          "name": "stdout",
          "text": [
            "tensor(1.8524)\n"
          ]
        }
      ]
    },
    {
      "cell_type": "code",
      "source": [
        "attn_scores_2 = query_2 @ keys.T\n",
        "attn_scores_2"
      ],
      "metadata": {
        "colab": {
          "base_uri": "https://localhost:8080/"
        },
        "id": "_CjhP9q-qkQQ",
        "outputId": "ab22b090-6202-48c4-85ff-f211a16cb90e"
      },
      "execution_count": 15,
      "outputs": [
        {
          "output_type": "execute_result",
          "data": {
            "text/plain": [
              "tensor([1.2705, 1.8524, 1.8111, 1.0795, 0.5577, 1.5440])"
            ]
          },
          "metadata": {},
          "execution_count": 15
        }
      ]
    },
    {
      "cell_type": "code",
      "source": [
        "d_k = keys.shape[-1]\n",
        "attn_weights_2 = torch.softmax(attn_scores_2/d_k**0.5,dim=-1)\n",
        "attn_weights_2"
      ],
      "metadata": {
        "colab": {
          "base_uri": "https://localhost:8080/"
        },
        "id": "y-R0C3x3qkaj",
        "outputId": "50d8717c-23b7-480b-9dba-12ce3c286879"
      },
      "execution_count": 16,
      "outputs": [
        {
          "output_type": "execute_result",
          "data": {
            "text/plain": [
              "tensor([0.1500, 0.2264, 0.2199, 0.1311, 0.0906, 0.1820])"
            ]
          },
          "metadata": {},
          "execution_count": 16
        }
      ]
    },
    {
      "cell_type": "code",
      "source": [
        "context_vec_2 = attn_weights_2 @ values\n",
        "context_vec_2"
      ],
      "metadata": {
        "colab": {
          "base_uri": "https://localhost:8080/"
        },
        "id": "oeQCLqguuHEa",
        "outputId": "6c2ce433-e766-4ef7-d5d0-0cfbcb550408"
      },
      "execution_count": 17,
      "outputs": [
        {
          "output_type": "execute_result",
          "data": {
            "text/plain": [
              "tensor([0.3061, 0.8210])"
            ]
          },
          "metadata": {},
          "execution_count": 17
        }
      ]
    },
    {
      "cell_type": "code",
      "source": [
        "import torch.nn as nn\n",
        "class SelfAttention_v1(nn.Module):\n",
        "  def __init__(self,d_in,d_out):\n",
        "    super().__init__()\n",
        "    self.W_query = nn.Parameter(torch.rand(d_in,d_out),requires_grad=True)\n",
        "    self.W_key = nn.Parameter(torch.rand(d_in,d_out),requires_grad=True)\n",
        "    self.W_value = nn.Parameter(torch.rand(d_in,d_out),requires_grad=True)\n",
        "\n",
        "  def forward(self,x):\n",
        "    keys = x @ self.W_key\n",
        "    values = x @ self.W_value\n",
        "    query = x @ self.W_query\n",
        "    attn_scores = query @ keys.T\n",
        "    attn_weights = torch.softmax(attn_scores/keys.shape[-1]**0.5,dim=-1)\n",
        "    context_vectors = attn_weights @ values\n",
        "    return context_vectors\n"
      ],
      "metadata": {
        "id": "4giADaDJv3Q7"
      },
      "execution_count": 18,
      "outputs": []
    },
    {
      "cell_type": "code",
      "source": [
        "torch.manual_seed(123)\n",
        "self_attn_v1 = SelfAttention_v1(d_in,d_out)\n",
        "context_vectors_v1 = self_attn_v1(inputs)\n",
        "context_vectors_v1"
      ],
      "metadata": {
        "colab": {
          "base_uri": "https://localhost:8080/"
        },
        "id": "3ICG9Fy7yeSc",
        "outputId": "8f109021-ae53-4e42-afdd-e820affb88c0"
      },
      "execution_count": 19,
      "outputs": [
        {
          "output_type": "execute_result",
          "data": {
            "text/plain": [
              "tensor([[0.2996, 0.8053],\n",
              "        [0.3061, 0.8210],\n",
              "        [0.3058, 0.8203],\n",
              "        [0.2948, 0.7939],\n",
              "        [0.2927, 0.7891],\n",
              "        [0.2990, 0.8040]], grad_fn=<MmBackward0>)"
            ]
          },
          "metadata": {},
          "execution_count": 19
        }
      ]
    },
    {
      "cell_type": "code",
      "source": [
        "class SelfAttention_v2(nn.Module):\n",
        "  def __init__(self,d_in,d_out,qkv_bias=False):\n",
        "    super().__init__()\n",
        "    self.W_query = nn.Linear(d_in,d_out,bias=qkv_bias)\n",
        "    self.W_key = nn.Linear(d_in,d_out,bias=qkv_bias)\n",
        "    self.W_value = nn.Linear(d_in,d_out,bias=qkv_bias)\n",
        "\n",
        "  def forward(self,x):\n",
        "    keys = self.W_key(x)\n",
        "    values = self.W_value(x)\n",
        "    queries = self.W_query(x)\n",
        "    attn_scores = queries @ keys.T\n",
        "    attn_weights = torch.softmax(attn_scores/keys.shape[-1]**0.5,dim=-1)\n",
        "    context_vectors = attn_weights @ values\n",
        "    return context_vectors\n"
      ],
      "metadata": {
        "id": "Mu-BkFJV0fXB"
      },
      "execution_count": 20,
      "outputs": []
    },
    {
      "cell_type": "code",
      "source": [
        "torch.manual_seed(789)\n",
        "self_attn_v2 = SelfAttention_v2(d_in,d_out)\n",
        "context_vectors_v2 = self_attn_v2(inputs)\n",
        "context_vectors_v2"
      ],
      "metadata": {
        "colab": {
          "base_uri": "https://localhost:8080/"
        },
        "id": "VuvQHSkZ1olZ",
        "outputId": "7170322c-3a13-492c-eddf-a9fa057d14ac"
      },
      "execution_count": 21,
      "outputs": [
        {
          "output_type": "execute_result",
          "data": {
            "text/plain": [
              "tensor([[-0.0739,  0.0713],\n",
              "        [-0.0748,  0.0703],\n",
              "        [-0.0749,  0.0702],\n",
              "        [-0.0760,  0.0685],\n",
              "        [-0.0763,  0.0679],\n",
              "        [-0.0754,  0.0693]], grad_fn=<MmBackward0>)"
            ]
          },
          "metadata": {},
          "execution_count": 21
        }
      ]
    },
    {
      "cell_type": "markdown",
      "source": [
        "Causal attention is a specialized form of self-attention. It restricts a model to only consider previous and current inputs in a sequence when processing any token when computing attention scores."
      ],
      "metadata": {
        "id": "5vIKFe6dAnfi"
      }
    },
    {
      "cell_type": "code",
      "source": [
        "queries = self_attn_v2.W_query(inputs)\n",
        "keys = self_attn_v2.W_key(inputs)\n",
        "values = self_attn_v2.W_value(inputs)\n",
        "attn_scores = queries @ keys.T\n",
        "attn_weights = torch.softmax(attn_scores/keys.shape[-1]**0.5,dim=-1)\n",
        "attn_weights"
      ],
      "metadata": {
        "colab": {
          "base_uri": "https://localhost:8080/"
        },
        "id": "nzRHnhet17H2",
        "outputId": "ac80da13-3cf6-470e-cdb1-75b53f740d38"
      },
      "execution_count": 22,
      "outputs": [
        {
          "output_type": "execute_result",
          "data": {
            "text/plain": [
              "tensor([[0.1921, 0.1646, 0.1652, 0.1550, 0.1721, 0.1510],\n",
              "        [0.2041, 0.1659, 0.1662, 0.1496, 0.1665, 0.1477],\n",
              "        [0.2036, 0.1659, 0.1662, 0.1498, 0.1664, 0.1480],\n",
              "        [0.1869, 0.1667, 0.1668, 0.1571, 0.1661, 0.1564],\n",
              "        [0.1830, 0.1669, 0.1670, 0.1588, 0.1658, 0.1585],\n",
              "        [0.1935, 0.1663, 0.1666, 0.1542, 0.1666, 0.1529]],\n",
              "       grad_fn=<SoftmaxBackward0>)"
            ]
          },
          "metadata": {},
          "execution_count": 22
        }
      ]
    },
    {
      "cell_type": "code",
      "source": [
        "context_length = attn_scores.shape[0]\n",
        "mask_simple = torch.tril(torch.ones(context_length,context_length))\n",
        "mask_simple"
      ],
      "metadata": {
        "colab": {
          "base_uri": "https://localhost:8080/"
        },
        "id": "jOpTqxaGPOyC",
        "outputId": "c5bc8f40-4598-42f8-876e-ef0b6969abe3"
      },
      "execution_count": 23,
      "outputs": [
        {
          "output_type": "execute_result",
          "data": {
            "text/plain": [
              "tensor([[1., 0., 0., 0., 0., 0.],\n",
              "        [1., 1., 0., 0., 0., 0.],\n",
              "        [1., 1., 1., 0., 0., 0.],\n",
              "        [1., 1., 1., 1., 0., 0.],\n",
              "        [1., 1., 1., 1., 1., 0.],\n",
              "        [1., 1., 1., 1., 1., 1.]])"
            ]
          },
          "metadata": {},
          "execution_count": 23
        }
      ]
    },
    {
      "cell_type": "code",
      "source": [
        "masked_simple = attn_weights * mask_simple\n",
        "masked_simple"
      ],
      "metadata": {
        "colab": {
          "base_uri": "https://localhost:8080/"
        },
        "id": "Hoo-IfTmQq4D",
        "outputId": "97ef2d5a-73f0-465b-dd58-213e88a197c1"
      },
      "execution_count": 24,
      "outputs": [
        {
          "output_type": "execute_result",
          "data": {
            "text/plain": [
              "tensor([[0.1921, 0.0000, 0.0000, 0.0000, 0.0000, 0.0000],\n",
              "        [0.2041, 0.1659, 0.0000, 0.0000, 0.0000, 0.0000],\n",
              "        [0.2036, 0.1659, 0.1662, 0.0000, 0.0000, 0.0000],\n",
              "        [0.1869, 0.1667, 0.1668, 0.1571, 0.0000, 0.0000],\n",
              "        [0.1830, 0.1669, 0.1670, 0.1588, 0.1658, 0.0000],\n",
              "        [0.1935, 0.1663, 0.1666, 0.1542, 0.1666, 0.1529]],\n",
              "       grad_fn=<MulBackward0>)"
            ]
          },
          "metadata": {},
          "execution_count": 24
        }
      ]
    },
    {
      "cell_type": "code",
      "source": [
        "row_sums = masked_simple.sum(dim=-1,keepdim=True)\n",
        "masked_simple_norm = masked_simple / row_sums\n",
        "masked_simple_norm\n"
      ],
      "metadata": {
        "colab": {
          "base_uri": "https://localhost:8080/"
        },
        "id": "Dmho-yxXQvyK",
        "outputId": "477fd17b-49e2-47fb-e54d-e7298f3d9b7f"
      },
      "execution_count": 25,
      "outputs": [
        {
          "output_type": "execute_result",
          "data": {
            "text/plain": [
              "tensor([[1.0000, 0.0000, 0.0000, 0.0000, 0.0000, 0.0000],\n",
              "        [0.5517, 0.4483, 0.0000, 0.0000, 0.0000, 0.0000],\n",
              "        [0.3800, 0.3097, 0.3103, 0.0000, 0.0000, 0.0000],\n",
              "        [0.2758, 0.2460, 0.2462, 0.2319, 0.0000, 0.0000],\n",
              "        [0.2175, 0.1983, 0.1984, 0.1888, 0.1971, 0.0000],\n",
              "        [0.1935, 0.1663, 0.1666, 0.1542, 0.1666, 0.1529]],\n",
              "       grad_fn=<DivBackward0>)"
            ]
          },
          "metadata": {},
          "execution_count": 25
        }
      ]
    },
    {
      "cell_type": "code",
      "source": [
        "mask = torch.triu(torch.ones(context_length,context_length),diagonal=1)\n",
        "mask\n",
        "masked = attn_scores.masked_fill(mask.bool(),-float('inf'))\n",
        "masked\n"
      ],
      "metadata": {
        "colab": {
          "base_uri": "https://localhost:8080/"
        },
        "id": "t2HxCWkZSyKt",
        "outputId": "4dc43507-6704-4e07-88ec-3e123d2a85bf"
      },
      "execution_count": 26,
      "outputs": [
        {
          "output_type": "execute_result",
          "data": {
            "text/plain": [
              "tensor([[0.2899,   -inf,   -inf,   -inf,   -inf,   -inf],\n",
              "        [0.4656, 0.1723,   -inf,   -inf,   -inf,   -inf],\n",
              "        [0.4594, 0.1703, 0.1731,   -inf,   -inf,   -inf],\n",
              "        [0.2642, 0.1024, 0.1036, 0.0186,   -inf,   -inf],\n",
              "        [0.2183, 0.0874, 0.0882, 0.0177, 0.0786,   -inf],\n",
              "        [0.3408, 0.1270, 0.1290, 0.0198, 0.1290, 0.0078]],\n",
              "       grad_fn=<MaskedFillBackward0>)"
            ]
          },
          "metadata": {},
          "execution_count": 26
        }
      ]
    },
    {
      "cell_type": "code",
      "source": [
        "attn_weights_masked = torch.softmax(masked/keys.shape[1]**0.5,dim =1)\n",
        "attn_weights_masked"
      ],
      "metadata": {
        "id": "sgigp3nCfj57",
        "colab": {
          "base_uri": "https://localhost:8080/"
        },
        "outputId": "6681957b-a761-4e59-da97-2439dc7b2dc6"
      },
      "execution_count": 27,
      "outputs": [
        {
          "output_type": "execute_result",
          "data": {
            "text/plain": [
              "tensor([[1.0000, 0.0000, 0.0000, 0.0000, 0.0000, 0.0000],\n",
              "        [0.5517, 0.4483, 0.0000, 0.0000, 0.0000, 0.0000],\n",
              "        [0.3800, 0.3097, 0.3103, 0.0000, 0.0000, 0.0000],\n",
              "        [0.2758, 0.2460, 0.2462, 0.2319, 0.0000, 0.0000],\n",
              "        [0.2175, 0.1983, 0.1984, 0.1888, 0.1971, 0.0000],\n",
              "        [0.1935, 0.1663, 0.1666, 0.1542, 0.1666, 0.1529]],\n",
              "       grad_fn=<SoftmaxBackward0>)"
            ]
          },
          "metadata": {},
          "execution_count": 27
        }
      ]
    },
    {
      "cell_type": "code",
      "source": [
        "torch.manual_seed(123)\n",
        "dropout = torch.nn.Dropout(0.5)\n",
        "example = torch.ones(6,6)\n",
        "example\n",
        "print(dropout(example))"
      ],
      "metadata": {
        "id": "wxDLtbsWe2qd",
        "colab": {
          "base_uri": "https://localhost:8080/"
        },
        "collapsed": true,
        "outputId": "2697907e-c904-46b4-f465-6cfb555a57c0"
      },
      "execution_count": 28,
      "outputs": [
        {
          "output_type": "stream",
          "name": "stdout",
          "text": [
            "tensor([[2., 2., 2., 2., 2., 2.],\n",
            "        [0., 2., 0., 0., 0., 0.],\n",
            "        [0., 0., 2., 0., 2., 0.],\n",
            "        [2., 2., 0., 0., 0., 2.],\n",
            "        [2., 0., 0., 0., 0., 2.],\n",
            "        [0., 2., 0., 0., 0., 0.]])\n"
          ]
        }
      ]
    },
    {
      "cell_type": "code",
      "source": [
        "torch.manual_seed(123)\n",
        "dropout(attn_weights_masked)\n"
      ],
      "metadata": {
        "colab": {
          "base_uri": "https://localhost:8080/"
        },
        "id": "FdSrBnq8pqj6",
        "outputId": "36097a43-f446-4163-db8a-02f139c683f9"
      },
      "execution_count": 29,
      "outputs": [
        {
          "output_type": "execute_result",
          "data": {
            "text/plain": [
              "tensor([[2.0000, 0.0000, 0.0000, 0.0000, 0.0000, 0.0000],\n",
              "        [0.0000, 0.8966, 0.0000, 0.0000, 0.0000, 0.0000],\n",
              "        [0.0000, 0.0000, 0.6206, 0.0000, 0.0000, 0.0000],\n",
              "        [0.5517, 0.4921, 0.0000, 0.0000, 0.0000, 0.0000],\n",
              "        [0.4350, 0.0000, 0.0000, 0.0000, 0.0000, 0.0000],\n",
              "        [0.0000, 0.3327, 0.0000, 0.0000, 0.0000, 0.0000]],\n",
              "       grad_fn=<MulBackward0>)"
            ]
          },
          "metadata": {},
          "execution_count": 29
        }
      ]
    },
    {
      "cell_type": "code",
      "source": [
        "batch = torch.stack((inputs,inputs),dim=0)\n",
        "print(batch.shape)"
      ],
      "metadata": {
        "colab": {
          "base_uri": "https://localhost:8080/"
        },
        "id": "aY7qAmoEqcjX",
        "outputId": "9c8c1587-e618-4f5f-f1be-b133332d6997"
      },
      "execution_count": 30,
      "outputs": [
        {
          "output_type": "stream",
          "name": "stdout",
          "text": [
            "torch.Size([2, 6, 3])\n"
          ]
        }
      ]
    },
    {
      "cell_type": "code",
      "source": [
        "class CausalAttention(nn.Module):\n",
        "  def __init__(self,d_in,d_out,context_length,dropout, qkv_bias=False):\n",
        "    super().__init__()\n",
        "    self.d_in = d_in\n",
        "    self.d_out = d_out\n",
        "    self.W_query = nn.Linear(d_in,d_out,bias=qkv_bias)\n",
        "    self.W_key = nn.Linear(d_in,d_out,bias=qkv_bias)\n",
        "    self.W_value = nn.Linear(d_in,d_out,bias=qkv_bias)\n",
        "    self.dropout = nn.Dropout(dropout)\n",
        "    self.register_buffer(\"mask\",torch.triu(torch.ones(context_length,context_length),diagonal=1))\n",
        "\n",
        "  def forward(self,x):\n",
        "    b,num_tokens,d_in = x.shape\n",
        "    queries = self.W_query(x)\n",
        "    keys = self.W_key(x)\n",
        "    values = self.W_value(x)\n",
        "\n",
        "    attn_scores = queries @ keys.transpose(1,2)\n",
        "    attn_scores = attn_scores.masked_fill(self.mask.bool()[:num_tokens, :num_tokens],-torch.inf)\n",
        "    attn_weights = torch.softmax(attn_scores/keys.shape[-1]**0.5,dim=-1)\n",
        "    attn_weights = self.dropout(attn_weights)\n",
        "    context_vectors = attn_weights @ values\n",
        "    return context_vectors\n",
        "\n"
      ],
      "metadata": {
        "id": "FdIiOPLmuzsy"
      },
      "execution_count": 31,
      "outputs": []
    },
    {
      "cell_type": "code",
      "source": [
        "torch.manual_seed(123)\n",
        "context_length= batch.shape[1]\n",
        "causal_attn = CausalAttention(d_in,d_out,context_length,0.5)\n",
        "context_vectors_causal = causal_attn(batch)\n",
        "context_vectors_causal"
      ],
      "metadata": {
        "colab": {
          "base_uri": "https://localhost:8080/"
        },
        "id": "H4QYyqFYzbPA",
        "outputId": "ce596f6c-eab2-480d-da24-70fd97dd0010"
      },
      "execution_count": 32,
      "outputs": [
        {
          "output_type": "execute_result",
          "data": {
            "text/plain": [
              "tensor([[[ 0.0000,  0.0000],\n",
              "         [-0.4368,  0.2142],\n",
              "         [-0.7751,  0.0077],\n",
              "         [-0.9140, -0.2769],\n",
              "         [ 0.0000,  0.0000],\n",
              "         [-0.6906, -0.0974]],\n",
              "\n",
              "        [[-0.9038,  0.4432],\n",
              "         [ 0.0000,  0.0000],\n",
              "         [-0.2883,  0.1414],\n",
              "         [-0.9140, -0.2769],\n",
              "         [-0.4416, -0.1410],\n",
              "         [-0.5272, -0.1706]]], grad_fn=<UnsafeViewBackward0>)"
            ]
          },
          "metadata": {},
          "execution_count": 32
        }
      ]
    },
    {
      "cell_type": "code",
      "source": [
        "context_vectors_causal.shape"
      ],
      "metadata": {
        "colab": {
          "base_uri": "https://localhost:8080/"
        },
        "id": "gWPfQyUG0O4p",
        "outputId": "c9b94809-b901-4a31-f17d-9cbe27aef2ed"
      },
      "execution_count": 33,
      "outputs": [
        {
          "output_type": "execute_result",
          "data": {
            "text/plain": [
              "torch.Size([2, 6, 2])"
            ]
          },
          "metadata": {},
          "execution_count": 33
        }
      ]
    },
    {
      "cell_type": "code",
      "source": [
        "class MultiHeadAttentionWrapper(nn.Module):\n",
        "  def __init__(self,d_in,d_out,num_heads,context_length,dropout,qkv_bias=False):\n",
        "    super().__init__()\n",
        "    self.heads = nn.ModuleList(\n",
        "        [CausalAttention(d_in,d_out,context_length,dropout,qkv_bias) for _ in range(num_heads)]\n",
        "    )\n",
        "\n",
        "  def forward(self,x):\n",
        "    return torch.cat([head(x) for head in self.heads],dim=-1)"
      ],
      "metadata": {
        "id": "CZsvL5MK0dET"
      },
      "execution_count": 34,
      "outputs": []
    },
    {
      "cell_type": "code",
      "source": [
        "torch.manual_seed(123)\n",
        "context_length = batch.shape[1]\n",
        "multihead_attn = MultiHeadAttentionWrapper(d_in,d_out,4,context_length,0.5)\n",
        "context_vectors_multihead = multihead_attn(batch)\n",
        "context_vectors_multihead"
      ],
      "metadata": {
        "colab": {
          "base_uri": "https://localhost:8080/"
        },
        "id": "ZEjiHC9l4qyo",
        "outputId": "f178e98b-cf49-4e92-9018-87dc53204129"
      },
      "execution_count": 35,
      "outputs": [
        {
          "output_type": "execute_result",
          "data": {
            "text/plain": [
              "tensor([[[ 0.0000,  0.0000,  0.0000,  0.0000,  0.0000,  0.0000, -1.1367,\n",
              "           1.0127],\n",
              "         [-0.7381, -0.2026,  0.4199,  0.0936,  1.1584,  0.6021, -0.6394,\n",
              "           0.5696],\n",
              "         [-0.7751,  0.0077,  1.2404,  0.7719,  0.0000,  0.0000,  0.0000,\n",
              "           0.0000],\n",
              "         [-0.7714, -0.0687,  1.0955,  0.7178,  0.2413,  0.1442, -0.5586,\n",
              "           0.6790],\n",
              "         [-0.8109, -0.1154,  0.7901,  0.4852,  0.7609,  0.3158, -0.2946,\n",
              "           0.5063],\n",
              "         [-0.2728,  0.0205,  0.2324,  0.1700,  0.6268,  0.3097, -0.6360,\n",
              "           0.9256]],\n",
              "\n",
              "        [[ 0.0000,  0.0000,  0.0000,  0.0000,  0.9131,  0.5458, -1.1367,\n",
              "           1.0127],\n",
              "         [-0.7381, -0.2026,  0.7582,  0.5577,  0.4965,  0.2967, -0.6394,\n",
              "           0.5696],\n",
              "         [-1.2600, -0.1264,  0.2701,  0.0602,  0.4538,  0.2094, -0.2988,\n",
              "           0.4935],\n",
              "         [ 0.0000,  0.0000,  0.2161,  0.0481,  0.0000,  0.0000, -0.4776,\n",
              "           0.7866],\n",
              "         [-0.7775, -0.2243,  0.1816,  0.0405,  0.3638,  0.1352, -0.6997,\n",
              "           0.9951],\n",
              "         [-0.4873, -0.1343,  0.7196,  0.4756,  0.8346,  0.3924, -0.4196,\n",
              "           0.5427]]], grad_fn=<CatBackward0>)"
            ]
          },
          "metadata": {},
          "execution_count": 35
        }
      ]
    },
    {
      "cell_type": "code",
      "source": [
        "class MultiHeadAttention(nn.Module):\n",
        "  def __init__(self,d_in,d_out,context_length,dropout,num_heads,qkv_bias=False):\n",
        "    super().__init__()\n",
        "    assert(d_out % num_heads == 0), \"d_out must be divisible by num_heads\"\n",
        "    self.d_out = d_out\n",
        "    self.num_heads = num_heads\n",
        "    self.head_dim = d_out // num_heads\n",
        "    self.W_query = nn.Linear(d_in,d_out,bias=qkv_bias)\n",
        "    self.W_key = nn.Linear(d_in,d_out,bias=qkv_bias)\n",
        "    self.W_value = nn.Linear(d_in,d_out,bias=qkv_bias)\n",
        "    self.out_proj = nn.Linear(d_out,d_out)\n",
        "    self.dropout = nn.Dropout(dropout)\n",
        "    self.register_buffer(\"mask\",torch.triu(torch.ones(context_length,context_length),diagonal=1))\n",
        "\n",
        "  def forward(self,x):\n",
        "    b,num_tokens,d_in = x.shape\n",
        "    queries = self.W_query(x)\n",
        "    keys = self.W_key(x)\n",
        "    values = self.W_value(x)\n",
        "\n",
        "    keys = keys.view(b,num_tokens,self.num_heads,self.head_dim)\n",
        "    values = values.view(b,num_tokens,self.num_heads,self.head_dim)\n",
        "    queries = queries.view(b,num_tokens,self.num_heads,self.head_dim)\n",
        "\n",
        "    keys = keys.transpose(1,2)\n",
        "    values = values.transpose(1,2)\n",
        "    queries = queries.transpose(1,2)\n",
        "\n",
        "    attn_scores = queries @ keys.transpose(2,3)\n",
        "    mask_bool = self.mask.bool()[:num_tokens,:num_tokens]\n",
        "    attn_scores = attn_scores.masked_fill(mask_bool,-torch.inf)\n",
        "\n",
        "    attn_weights = torch.softmax(attn_scores/keys.shape[-1]**0.5,dim=-1)\n",
        "    attn_weights = self.dropout(attn_weights)\n",
        "    context_vectors = ((attn_weights @ values).transpose(1,2)).contiguous().view(\n",
        "                                      b,num_tokens,self.d_out)\n",
        "    context_vectors = self.out_proj(context_vectors)\n",
        "    return context_vectors\n",
        "\n",
        "\n",
        "\n"
      ],
      "metadata": {
        "id": "GVDsi4ph5NvI"
      },
      "execution_count": 38,
      "outputs": []
    },
    {
      "cell_type": "code",
      "source": [
        "torch.manual_seed(123)\n",
        "batch_size, context_length, d_in = batch.shape\n",
        "d_out = 2\n",
        "mha = MultiHeadAttention(d_in,d_out,context_length,0.0,num_heads = 2)\n",
        "context_vectors_mha = mha(batch)\n",
        "context_vectors_mha\n"
      ],
      "metadata": {
        "colab": {
          "base_uri": "https://localhost:8080/"
        },
        "id": "tfVF2Otm-LRV",
        "outputId": "fc4d903d-da96-4ba8-adfe-0311520b40ae"
      },
      "execution_count": 39,
      "outputs": [
        {
          "output_type": "execute_result",
          "data": {
            "text/plain": [
              "tensor([[[0.3190, 0.4858],\n",
              "         [0.2943, 0.3897],\n",
              "         [0.2856, 0.3593],\n",
              "         [0.2693, 0.3873],\n",
              "         [0.2639, 0.3928],\n",
              "         [0.2575, 0.4028]],\n",
              "\n",
              "        [[0.3190, 0.4858],\n",
              "         [0.2943, 0.3897],\n",
              "         [0.2856, 0.3593],\n",
              "         [0.2693, 0.3873],\n",
              "         [0.2639, 0.3928],\n",
              "         [0.2575, 0.4028]]], grad_fn=<ViewBackward0>)"
            ]
          },
          "metadata": {},
          "execution_count": 39
        }
      ]
    },
    {
      "cell_type": "code",
      "source": [],
      "metadata": {
        "id": "f3MnMXCz-k0d"
      },
      "execution_count": 37,
      "outputs": []
    },
    {
      "cell_type": "code",
      "source": [],
      "metadata": {
        "id": "5rACM3TEAEha"
      },
      "execution_count": 37,
      "outputs": []
    }
  ]
}